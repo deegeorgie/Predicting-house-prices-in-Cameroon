import pandas as pd
import numpy  as np

data = pd.read_csv('koutchoumi1.csv')
data.head()

#Let's add a new column to our dataset that tells if the house is furnished or not

furnish = []

for row in data['Type']:
    if 'furnished' in row:
        furnish.append('yes')
    else:
        furnish.append('no')
        
data['Furnished'] = furnish

#Here we strip off unnecessary words from the 'Type' column
def remap_type(x):
    if 'apartment' in x:
        return 'Apartment'
    else:
        return x
    
data['Type'] = data['Type'].map(remap_type)

def clean_price(x):
    p = x.strip('FCFA')
    pr = p.strip('>')
    return pr

data['Price'] = data['Price'].map(clean_price)

def clean_rooms(x):
    b = x.split(' ')[1]
    return b

data['Bedrooms'] = data['Bedrooms'].map(clean_rooms)
data['Bathrooms'] = data['Bathrooms'].map(clean_rooms)

#Create a new column called 'City' 
towns =[]

for row in data['Area']:
    town = row.split('/')[0]
    towns.append(town)
    
data['City'] = towns

def clean_area(a):
    ar = a.split('/')[1]
    return ar

data['Area'] = data['Area'].map(clean_area)

data.rename(columns={
        'Price': 'Price(FCFA)'
    }, inplace=True)
